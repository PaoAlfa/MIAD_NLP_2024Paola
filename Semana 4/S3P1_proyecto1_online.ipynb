{
 "cells": [
  {
   "cell_type": "markdown",
   "metadata": {},
   "source": [
    "![image info](https://raw.githubusercontent.com/davidzarruk/MIAD_ML_NLP_2023/main/images/banner_1.png)"
   ]
  },
  {
   "cell_type": "markdown",
   "metadata": {},
   "source": [
    "# Proyecto 1 - Predicción de precios de vehículos usados\n",
    "\n",
    "En este proyecto podrán poner en práctica sus conocimientos sobre modelos predictivos basados en árboles y ensambles, y sobre la disponibilización de modelos. Para su desasrrollo tengan en cuenta las instrucciones dadas en la \"Guía del proyecto 1: Predicción de precios de vehículos usados\".\n",
    "\n",
    "**Entrega**: La entrega del proyecto deberán realizarla durante la semana 4. Sin embargo, es importante que avancen en la semana 3 en el modelado del problema y en parte del informe, tal y como se les indicó en la guía.\n",
    "\n",
    "Para hacer la entrega, deberán adjuntar el informe autocontenido en PDF a la actividad de entrega del proyecto que encontrarán en la semana 4, y subir el archivo de predicciones a la [competencia de Kaggle](https://www.kaggle.com/t/b8be43cf89c540bfaf3831f2c8506614)."
   ]
  },
  {
   "cell_type": "markdown",
   "metadata": {},
   "source": [
    "## Datos para la predicción de precios de vehículos usados\n",
    "\n",
    "En este proyecto se usará el conjunto de datos de Car Listings de Kaggle, donde cada observación representa el precio de un automóvil teniendo en cuenta distintas variables como: año, marca, modelo, entre otras. El objetivo es predecir el precio del automóvil. Para más detalles puede visitar el siguiente enlace: [datos](https://www.kaggle.com/jpayne/852k-used-car-listings)."
   ]
  },
  {
   "cell_type": "markdown",
   "metadata": {},
   "source": [
    "## Ejemplo predicción conjunto de test para envío a Kaggle\n",
    "\n",
    "En esta sección encontrarán el formato en el que deben guardar los resultados de la predicción para que puedan subirlos a la competencia en Kaggle."
   ]
  },
  {
   "cell_type": "code",
   "execution_count": 5,
   "metadata": {},
   "outputs": [],
   "source": [
    "import warnings\n",
    "warnings.filterwarnings('ignore')"
   ]
  },
  {
   "cell_type": "code",
   "execution_count": 6,
   "metadata": {},
   "outputs": [],
   "source": [
    "# Importación librerías\n",
    "import pandas as pd\n",
    "import numpy as np"
   ]
  },
  {
   "cell_type": "code",
   "execution_count": 7,
   "metadata": {},
   "outputs": [],
   "source": [
    "# Carga de datos de archivo .csv\n",
    "dataTraining = pd.read_csv('https://raw.githubusercontent.com/davidzarruk/MIAD_ML_NLP_2023/main/datasets/dataTrain_carListings.zip')\n",
    "dataTesting = pd.read_csv('https://raw.githubusercontent.com/davidzarruk/MIAD_ML_NLP_2023/main/datasets/dataTest_carListings.zip', index_col=0)"
   ]
  },
  {
   "cell_type": "code",
   "execution_count": 8,
   "metadata": {},
   "outputs": [
    {
     "data": {
      "text/html": [
       "<div>\n",
       "<style scoped>\n",
       "    .dataframe tbody tr th:only-of-type {\n",
       "        vertical-align: middle;\n",
       "    }\n",
       "\n",
       "    .dataframe tbody tr th {\n",
       "        vertical-align: top;\n",
       "    }\n",
       "\n",
       "    .dataframe thead th {\n",
       "        text-align: right;\n",
       "    }\n",
       "</style>\n",
       "<table border=\"1\" class=\"dataframe\">\n",
       "  <thead>\n",
       "    <tr style=\"text-align: right;\">\n",
       "      <th></th>\n",
       "      <th>Price</th>\n",
       "      <th>Year</th>\n",
       "      <th>Mileage</th>\n",
       "      <th>State</th>\n",
       "      <th>Make</th>\n",
       "      <th>Model</th>\n",
       "    </tr>\n",
       "  </thead>\n",
       "  <tbody>\n",
       "    <tr>\n",
       "      <th>0</th>\n",
       "      <td>34995</td>\n",
       "      <td>2017</td>\n",
       "      <td>9913</td>\n",
       "      <td>FL</td>\n",
       "      <td>Jeep</td>\n",
       "      <td>Wrangler</td>\n",
       "    </tr>\n",
       "    <tr>\n",
       "      <th>1</th>\n",
       "      <td>37895</td>\n",
       "      <td>2015</td>\n",
       "      <td>20578</td>\n",
       "      <td>OH</td>\n",
       "      <td>Chevrolet</td>\n",
       "      <td>Tahoe4WD</td>\n",
       "    </tr>\n",
       "    <tr>\n",
       "      <th>2</th>\n",
       "      <td>18430</td>\n",
       "      <td>2012</td>\n",
       "      <td>83716</td>\n",
       "      <td>TX</td>\n",
       "      <td>BMW</td>\n",
       "      <td>X5AWD</td>\n",
       "    </tr>\n",
       "    <tr>\n",
       "      <th>3</th>\n",
       "      <td>24681</td>\n",
       "      <td>2014</td>\n",
       "      <td>28729</td>\n",
       "      <td>OH</td>\n",
       "      <td>Cadillac</td>\n",
       "      <td>SRXLuxury</td>\n",
       "    </tr>\n",
       "    <tr>\n",
       "      <th>4</th>\n",
       "      <td>26998</td>\n",
       "      <td>2013</td>\n",
       "      <td>64032</td>\n",
       "      <td>CO</td>\n",
       "      <td>Jeep</td>\n",
       "      <td>Wrangler</td>\n",
       "    </tr>\n",
       "  </tbody>\n",
       "</table>\n",
       "</div>"
      ],
      "text/plain": [
       "   Price  Year  Mileage State       Make      Model\n",
       "0  34995  2017     9913    FL       Jeep   Wrangler\n",
       "1  37895  2015    20578    OH  Chevrolet   Tahoe4WD\n",
       "2  18430  2012    83716    TX        BMW      X5AWD\n",
       "3  24681  2014    28729    OH   Cadillac  SRXLuxury\n",
       "4  26998  2013    64032    CO       Jeep   Wrangler"
      ]
     },
     "execution_count": 8,
     "metadata": {},
     "output_type": "execute_result"
    }
   ],
   "source": [
    "# Visualización datos de entrenamiento\n",
    "dataTraining.head()"
   ]
  },
  {
   "cell_type": "code",
   "execution_count": 9,
   "metadata": {},
   "outputs": [
    {
     "data": {
      "text/html": [
       "<div>\n",
       "<style scoped>\n",
       "    .dataframe tbody tr th:only-of-type {\n",
       "        vertical-align: middle;\n",
       "    }\n",
       "\n",
       "    .dataframe tbody tr th {\n",
       "        vertical-align: top;\n",
       "    }\n",
       "\n",
       "    .dataframe thead th {\n",
       "        text-align: right;\n",
       "    }\n",
       "</style>\n",
       "<table border=\"1\" class=\"dataframe\">\n",
       "  <thead>\n",
       "    <tr style=\"text-align: right;\">\n",
       "      <th></th>\n",
       "      <th>Year</th>\n",
       "      <th>Mileage</th>\n",
       "      <th>State</th>\n",
       "      <th>Make</th>\n",
       "      <th>Model</th>\n",
       "    </tr>\n",
       "    <tr>\n",
       "      <th>ID</th>\n",
       "      <th></th>\n",
       "      <th></th>\n",
       "      <th></th>\n",
       "      <th></th>\n",
       "      <th></th>\n",
       "    </tr>\n",
       "  </thead>\n",
       "  <tbody>\n",
       "    <tr>\n",
       "      <th>0</th>\n",
       "      <td>2014</td>\n",
       "      <td>31909</td>\n",
       "      <td>MD</td>\n",
       "      <td>Nissan</td>\n",
       "      <td>MuranoAWD</td>\n",
       "    </tr>\n",
       "    <tr>\n",
       "      <th>1</th>\n",
       "      <td>2017</td>\n",
       "      <td>5362</td>\n",
       "      <td>FL</td>\n",
       "      <td>Jeep</td>\n",
       "      <td>Wrangler</td>\n",
       "    </tr>\n",
       "    <tr>\n",
       "      <th>2</th>\n",
       "      <td>2014</td>\n",
       "      <td>50300</td>\n",
       "      <td>OH</td>\n",
       "      <td>Ford</td>\n",
       "      <td>FlexLimited</td>\n",
       "    </tr>\n",
       "    <tr>\n",
       "      <th>3</th>\n",
       "      <td>2004</td>\n",
       "      <td>132160</td>\n",
       "      <td>WA</td>\n",
       "      <td>BMW</td>\n",
       "      <td>5</td>\n",
       "    </tr>\n",
       "    <tr>\n",
       "      <th>4</th>\n",
       "      <td>2015</td>\n",
       "      <td>25226</td>\n",
       "      <td>MA</td>\n",
       "      <td>Jeep</td>\n",
       "      <td>Grand</td>\n",
       "    </tr>\n",
       "  </tbody>\n",
       "</table>\n",
       "</div>"
      ],
      "text/plain": [
       "    Year  Mileage State    Make        Model\n",
       "ID                                          \n",
       "0   2014    31909    MD  Nissan    MuranoAWD\n",
       "1   2017     5362    FL    Jeep     Wrangler\n",
       "2   2014    50300    OH    Ford  FlexLimited\n",
       "3   2004   132160    WA     BMW            5\n",
       "4   2015    25226    MA    Jeep        Grand"
      ]
     },
     "execution_count": 9,
     "metadata": {},
     "output_type": "execute_result"
    }
   ],
   "source": [
    "# Visualización datos de test\n",
    "dataTesting.head()"
   ]
  },
  {
   "cell_type": "markdown",
   "metadata": {},
   "source": [
    "# Desarrollo: Predicción de precios de vehículos usados\n",
    "## Proyecto 1 - Machine Learning y Procesamiento de Lenguaje Natural"
   ]
  },
  {
   "cell_type": "markdown",
   "metadata": {},
   "source": [
    "### 1. Descripción general\n",
    "Los datos utilizados en este proyecto fueron adquiridos el 24 de septiembre de 2017 a través de TrueCar.com. Cada fila de los datos representa un listado de automóviles usados, y se incluyen diversas características como el año, marca, modelo, precio, número de identificación del vehículo (VIN), ciudad y estado.\n",
    "\n",
    "#### 1.1. Contexto \n",
    "Los datos utilizados en este proyecto fueron adquiridos el 24 de septiembre de 2017 a través de TrueCar.com. Cada fila de los datos representa un listado de automóviles usados, y se incluyen diversas características como el año, marca, modelo, precio, número de identificación del vehículo (VIN), ciudad y estado.\n",
    "\n",
    "#### 1.2. Pregunta de interes a resolver\n",
    "La pregunta a resolver con los datos es ¿Cómo podemos predecir el precio de un automóvil usado basándonos en sus características, como el año, marca, modelo, entre otras, utilizando modelos predictivos basados en árboles y ensambles?\n"
   ]
  },
  {
   "cell_type": "code",
   "execution_count": 10,
   "metadata": {},
   "outputs": [],
   "source": [
    "# Importamos librerías \n",
    "from sklearn.model_selection import train_test_split\n",
    "from sklearn.impute import SimpleImputer\n",
    "from sklearn.preprocessing import OneHotEncoder, StandardScaler\n",
    "from sklearn.compose import ColumnTransformer\n",
    "from sklearn.pipeline import Pipeline\n",
    "from sklearn.model_selection import GridSearchCV"
   ]
  },
  {
   "cell_type": "code",
   "execution_count": 11,
   "metadata": {},
   "outputs": [],
   "source": [
    "\n",
    "# División de los datos\n",
    "X_train, X_val, y_train, y_val = train_test_split(dataTraining.drop(columns=['Price']), dataTraining['Price'], test_size=0.2, random_state=42)\n",
    "\n",
    "# Verificar la existencia de la columna 'Price' en dataTraining\n",
    "if 'Price' not in dataTraining.columns:\n",
    "    print(\"Error: La columna 'Price' no está presente en dataTraining. Verifica tus datos.\")\n",
    "\n"
   ]
  },
  {
   "cell_type": "markdown",
   "metadata": {},
   "source": [
    "### Estadísticas descriptivas"
   ]
  },
  {
   "cell_type": "code",
   "execution_count": 12,
   "metadata": {
    "scrolled": true
   },
   "outputs": [
    {
     "data": {
      "text/html": [
       "<div>\n",
       "<style scoped>\n",
       "    .dataframe tbody tr th:only-of-type {\n",
       "        vertical-align: middle;\n",
       "    }\n",
       "\n",
       "    .dataframe tbody tr th {\n",
       "        vertical-align: top;\n",
       "    }\n",
       "\n",
       "    .dataframe thead th {\n",
       "        text-align: right;\n",
       "    }\n",
       "</style>\n",
       "<table border=\"1\" class=\"dataframe\">\n",
       "  <thead>\n",
       "    <tr style=\"text-align: right;\">\n",
       "      <th></th>\n",
       "      <th>count</th>\n",
       "      <th>unique</th>\n",
       "      <th>top</th>\n",
       "      <th>freq</th>\n",
       "      <th>mean</th>\n",
       "      <th>std</th>\n",
       "      <th>min</th>\n",
       "      <th>25%</th>\n",
       "      <th>50%</th>\n",
       "      <th>75%</th>\n",
       "      <th>max</th>\n",
       "    </tr>\n",
       "  </thead>\n",
       "  <tbody>\n",
       "    <tr>\n",
       "      <th>Price</th>\n",
       "      <td>400000.0</td>\n",
       "      <td>NaN</td>\n",
       "      <td>NaN</td>\n",
       "      <td>NaN</td>\n",
       "      <td>21146.919312</td>\n",
       "      <td>10753.66494</td>\n",
       "      <td>5001.0</td>\n",
       "      <td>13499.0</td>\n",
       "      <td>18450.0</td>\n",
       "      <td>26999.0</td>\n",
       "      <td>79999.0</td>\n",
       "    </tr>\n",
       "    <tr>\n",
       "      <th>Year</th>\n",
       "      <td>400000.0</td>\n",
       "      <td>NaN</td>\n",
       "      <td>NaN</td>\n",
       "      <td>NaN</td>\n",
       "      <td>2013.198125</td>\n",
       "      <td>3.292326</td>\n",
       "      <td>1997.0</td>\n",
       "      <td>2012.0</td>\n",
       "      <td>2014.0</td>\n",
       "      <td>2016.0</td>\n",
       "      <td>2018.0</td>\n",
       "    </tr>\n",
       "    <tr>\n",
       "      <th>Mileage</th>\n",
       "      <td>400000.0</td>\n",
       "      <td>NaN</td>\n",
       "      <td>NaN</td>\n",
       "      <td>NaN</td>\n",
       "      <td>55072.956895</td>\n",
       "      <td>40881.018845</td>\n",
       "      <td>5.0</td>\n",
       "      <td>25841.0</td>\n",
       "      <td>42955.0</td>\n",
       "      <td>77433.0</td>\n",
       "      <td>2457832.0</td>\n",
       "    </tr>\n",
       "    <tr>\n",
       "      <th>State</th>\n",
       "      <td>400000</td>\n",
       "      <td>51</td>\n",
       "      <td>TX</td>\n",
       "      <td>45918</td>\n",
       "      <td>NaN</td>\n",
       "      <td>NaN</td>\n",
       "      <td>NaN</td>\n",
       "      <td>NaN</td>\n",
       "      <td>NaN</td>\n",
       "      <td>NaN</td>\n",
       "      <td>NaN</td>\n",
       "    </tr>\n",
       "    <tr>\n",
       "      <th>Make</th>\n",
       "      <td>400000</td>\n",
       "      <td>38</td>\n",
       "      <td>Ford</td>\n",
       "      <td>62899</td>\n",
       "      <td>NaN</td>\n",
       "      <td>NaN</td>\n",
       "      <td>NaN</td>\n",
       "      <td>NaN</td>\n",
       "      <td>NaN</td>\n",
       "      <td>NaN</td>\n",
       "      <td>NaN</td>\n",
       "    </tr>\n",
       "    <tr>\n",
       "      <th>Model</th>\n",
       "      <td>400000</td>\n",
       "      <td>525</td>\n",
       "      <td>Silverado</td>\n",
       "      <td>18085</td>\n",
       "      <td>NaN</td>\n",
       "      <td>NaN</td>\n",
       "      <td>NaN</td>\n",
       "      <td>NaN</td>\n",
       "      <td>NaN</td>\n",
       "      <td>NaN</td>\n",
       "      <td>NaN</td>\n",
       "    </tr>\n",
       "  </tbody>\n",
       "</table>\n",
       "</div>"
      ],
      "text/plain": [
       "            count unique        top   freq          mean           std  \\\n",
       "Price    400000.0    NaN        NaN    NaN  21146.919312   10753.66494   \n",
       "Year     400000.0    NaN        NaN    NaN   2013.198125      3.292326   \n",
       "Mileage  400000.0    NaN        NaN    NaN  55072.956895  40881.018845   \n",
       "State      400000     51         TX  45918           NaN           NaN   \n",
       "Make       400000     38       Ford  62899           NaN           NaN   \n",
       "Model      400000    525  Silverado  18085           NaN           NaN   \n",
       "\n",
       "            min      25%      50%      75%        max  \n",
       "Price    5001.0  13499.0  18450.0  26999.0    79999.0  \n",
       "Year     1997.0   2012.0   2014.0   2016.0     2018.0  \n",
       "Mileage     5.0  25841.0  42955.0  77433.0  2457832.0  \n",
       "State       NaN      NaN      NaN      NaN        NaN  \n",
       "Make        NaN      NaN      NaN      NaN        NaN  \n",
       "Model       NaN      NaN      NaN      NaN        NaN  "
      ]
     },
     "execution_count": 12,
     "metadata": {},
     "output_type": "execute_result"
    }
   ],
   "source": [
    "#más sobre la estadística descriptiva de los datos de entrenamiento\n",
    "dataTraining.describe(include=\"all\").transpose()"
   ]
  },
  {
   "cell_type": "code",
   "execution_count": 13,
   "metadata": {
    "scrolled": true
   },
   "outputs": [
    {
     "name": "stdout",
     "output_type": "stream",
     "text": [
      "<class 'pandas.core.frame.DataFrame'>\n",
      "RangeIndex: 400000 entries, 0 to 399999\n",
      "Data columns (total 6 columns):\n",
      " #   Column   Non-Null Count   Dtype \n",
      "---  ------   --------------   ----- \n",
      " 0   Price    400000 non-null  int64 \n",
      " 1   Year     400000 non-null  int64 \n",
      " 2   Mileage  400000 non-null  int64 \n",
      " 3   State    400000 non-null  object\n",
      " 4   Make     400000 non-null  object\n",
      " 5   Model    400000 non-null  object\n",
      "dtypes: int64(3), object(3)\n",
      "memory usage: 18.3+ MB\n"
     ]
    }
   ],
   "source": [
    "dataTraining.info()"
   ]
  },
  {
   "cell_type": "code",
   "execution_count": 14,
   "metadata": {
    "scrolled": false
   },
   "outputs": [
    {
     "data": {
      "text/html": [
       "<div>\n",
       "<style scoped>\n",
       "    .dataframe tbody tr th:only-of-type {\n",
       "        vertical-align: middle;\n",
       "    }\n",
       "\n",
       "    .dataframe tbody tr th {\n",
       "        vertical-align: top;\n",
       "    }\n",
       "\n",
       "    .dataframe thead th {\n",
       "        text-align: right;\n",
       "    }\n",
       "</style>\n",
       "<table border=\"1\" class=\"dataframe\">\n",
       "  <thead>\n",
       "    <tr style=\"text-align: right;\">\n",
       "      <th></th>\n",
       "      <th>count</th>\n",
       "      <th>unique</th>\n",
       "      <th>top</th>\n",
       "      <th>freq</th>\n",
       "      <th>mean</th>\n",
       "      <th>std</th>\n",
       "      <th>min</th>\n",
       "      <th>25%</th>\n",
       "      <th>50%</th>\n",
       "      <th>75%</th>\n",
       "      <th>max</th>\n",
       "    </tr>\n",
       "  </thead>\n",
       "  <tbody>\n",
       "    <tr>\n",
       "      <th>Year</th>\n",
       "      <td>100000.0</td>\n",
       "      <td>NaN</td>\n",
       "      <td>NaN</td>\n",
       "      <td>NaN</td>\n",
       "      <td>2013.19337</td>\n",
       "      <td>3.281366</td>\n",
       "      <td>1997.0</td>\n",
       "      <td>2012.0</td>\n",
       "      <td>2014.0</td>\n",
       "      <td>2016.0</td>\n",
       "      <td>2018.0</td>\n",
       "    </tr>\n",
       "    <tr>\n",
       "      <th>Mileage</th>\n",
       "      <td>100000.0</td>\n",
       "      <td>NaN</td>\n",
       "      <td>NaN</td>\n",
       "      <td>NaN</td>\n",
       "      <td>55090.30418</td>\n",
       "      <td>40961.270168</td>\n",
       "      <td>5.0</td>\n",
       "      <td>25898.0</td>\n",
       "      <td>43128.0</td>\n",
       "      <td>77315.25</td>\n",
       "      <td>1428913.0</td>\n",
       "    </tr>\n",
       "    <tr>\n",
       "      <th>State</th>\n",
       "      <td>100000</td>\n",
       "      <td>51</td>\n",
       "      <td>TX</td>\n",
       "      <td>11235</td>\n",
       "      <td>NaN</td>\n",
       "      <td>NaN</td>\n",
       "      <td>NaN</td>\n",
       "      <td>NaN</td>\n",
       "      <td>NaN</td>\n",
       "      <td>NaN</td>\n",
       "      <td>NaN</td>\n",
       "    </tr>\n",
       "    <tr>\n",
       "      <th>Make</th>\n",
       "      <td>100000</td>\n",
       "      <td>37</td>\n",
       "      <td>Ford</td>\n",
       "      <td>15728</td>\n",
       "      <td>NaN</td>\n",
       "      <td>NaN</td>\n",
       "      <td>NaN</td>\n",
       "      <td>NaN</td>\n",
       "      <td>NaN</td>\n",
       "      <td>NaN</td>\n",
       "      <td>NaN</td>\n",
       "    </tr>\n",
       "    <tr>\n",
       "      <th>Model</th>\n",
       "      <td>100000</td>\n",
       "      <td>525</td>\n",
       "      <td>Silverado</td>\n",
       "      <td>4477</td>\n",
       "      <td>NaN</td>\n",
       "      <td>NaN</td>\n",
       "      <td>NaN</td>\n",
       "      <td>NaN</td>\n",
       "      <td>NaN</td>\n",
       "      <td>NaN</td>\n",
       "      <td>NaN</td>\n",
       "    </tr>\n",
       "  </tbody>\n",
       "</table>\n",
       "</div>"
      ],
      "text/plain": [
       "            count unique        top   freq         mean           std     min  \\\n",
       "Year     100000.0    NaN        NaN    NaN   2013.19337      3.281366  1997.0   \n",
       "Mileage  100000.0    NaN        NaN    NaN  55090.30418  40961.270168     5.0   \n",
       "State      100000     51         TX  11235          NaN           NaN     NaN   \n",
       "Make       100000     37       Ford  15728          NaN           NaN     NaN   \n",
       "Model      100000    525  Silverado   4477          NaN           NaN     NaN   \n",
       "\n",
       "             25%      50%       75%        max  \n",
       "Year      2012.0   2014.0    2016.0     2018.0  \n",
       "Mileage  25898.0  43128.0  77315.25  1428913.0  \n",
       "State        NaN      NaN       NaN        NaN  \n",
       "Make         NaN      NaN       NaN        NaN  \n",
       "Model        NaN      NaN       NaN        NaN  "
      ]
     },
     "execution_count": 14,
     "metadata": {},
     "output_type": "execute_result"
    }
   ],
   "source": [
    "#más sobre la estadística descriptiva de los datos de entrenamiento\n",
    "dataTesting.describe(include=\"all\").transpose()"
   ]
  },
  {
   "cell_type": "code",
   "execution_count": 15,
   "metadata": {
    "scrolled": false
   },
   "outputs": [
    {
     "name": "stdout",
     "output_type": "stream",
     "text": [
      "<class 'pandas.core.frame.DataFrame'>\n",
      "Int64Index: 100000 entries, 0 to 99999\n",
      "Data columns (total 5 columns):\n",
      " #   Column   Non-Null Count   Dtype \n",
      "---  ------   --------------   ----- \n",
      " 0   Year     100000 non-null  int64 \n",
      " 1   Mileage  100000 non-null  int64 \n",
      " 2   State    100000 non-null  object\n",
      " 3   Make     100000 non-null  object\n",
      " 4   Model    100000 non-null  object\n",
      "dtypes: int64(2), object(3)\n",
      "memory usage: 4.6+ MB\n"
     ]
    }
   ],
   "source": [
    "dataTesting.info()"
   ]
  },
  {
   "cell_type": "markdown",
   "metadata": {},
   "source": [
    "Descripción general: Los datos utilizados en este proyecto fueron adquiridos el 24 de septiembre de 2017 a través de TrueCar.com. Cada fila de los datos representa un listado de automóviles usados, y se incluyen diversas características como el año, marca, modelo, precio, número de identificación del vehículo (VIN), ciudad y estado. El objetivo a abordar en el presente proyecto es predecir el precio del automóvil para el conjunto de datos definido. \n",
    "Análisis exploratorio de los datos: La base de datos cuenta con 852.122 registros, para el periodo de tiempo desde el año 1997 al 2018. El precio de venta mínimo va desde $ 1.500 hasta un precio de 499.500.  \n",
    "\n",
    "Por otro lado, el conjunto de datos de entrenamiento cuenta con 400,000 observaciones de automóviles usados, con precios que varían desde $5.001 hasta $79.999. La mayoría de los vehículos tienen un año de fabricación entre 1997 y 2018, con millajes que oscilan entre 5 y 2,457,832 millas. Los estados más representados son Texas (TX) y las marcas más frecuentes incluyen a Ford y Chevrolet, con modelos como el Silverado.\n",
    "\n",
    " \n",
    "\n",
    "Los datos de prueba por su parte cuentan con 100,000 observaciones de automóviles usados, con un rango similar de años de fabricación y millaje en comparación con los datos de entrenamiento. Los estados más representados y las marcas más frecuentes también son similares, con el modelo Silverado siendo uno de los más comunes.\n",
    "\n",
    " \n",
    "\n",
    "Ambos tanto para los datos de entrenamiento como para los datos de prueba, las observaciones se presentan en seis columnas, tres de ellas son variables numéricas (int64) que incluyen precios, años y millaje, mientras que las otras tres son variables categóricas (object) con datos de texto como estados, marcas y modelos de autos.\n",
    "Preprocesamiento de los datos \n",
    "El preprocesamiento de datos se abordó en 2 partes: imputación de valores faltantes y codificación de variables categóricas.\n",
    "En primer lugar, se identificaron las columnas numéricas y categóricas en el conjunto de datos. Luego, se crearon dos pipelines para el preprocesamiento de datos: uno para variables numéricas y otro para variables categóricas: Para las variables numéricas, se utilizó una imputación de valores faltantes con la mediana de cada columna, seguida de la estandarización de las variables utilizando la clase StandardScaler de sklearn y para las variables categóricas, se realizó una imputación de valores faltantes utilizando la moda de cada columna, seguida de la codificación One-Hot utilizando la clase OneHotEncoder de sklearn. Además, se utilizó el parámetro 'handle_unknown' con el valor 'ignore' para manejar correctamente cualquier categoría desconocida en los datos de validación.\n",
    "Finalmente, se combinaron ambos transformadores en un ColumnTransformer que aplicó el preprocesamiento a todas las columnas del conjunto de datos. Este preprocesador se ajustó a los datos de entrenamiento y se utilizó para transformar tanto los datos de entrenamiento como los de vay ensambles. Asimismo, se revisó y comprobó que train y test no tienen errores y nulos en sus bases de datos.\n"
   ]
  },
  {
   "cell_type": "markdown",
   "metadata": {},
   "source": [
    "### 2. Preprocesamiento de los datos\n",
    "- Imputación de valores faltantes: Comprobaremos si hay valores faltantes en el conjunto de datos y, si es necesario, imputaremos estos valores utilizando métodos como la media, la mediana o la moda de las columnas correspondientes.\n",
    "- Codificación de variables categóricas: Si hay variables categóricas en los datos, las codificaremos utilizando técnicas como One-Hot Encoding o Label Encoding."
   ]
  },
  {
   "cell_type": "code",
   "execution_count": 16,
   "metadata": {},
   "outputs": [],
   "source": [
    "# Definición de columnas numéricas y categóricas\n",
    "numeric_features = X_train.select_dtypes(include=['int64', 'float64']).columns\n",
    "categorical_features = X_train.select_dtypes(include=['object']).columns\n"
   ]
  },
  {
   "cell_type": "code",
   "execution_count": 17,
   "metadata": {},
   "outputs": [],
   "source": [
    "# Pipeline para el preprocesamiento de datos\n",
    "numeric_transformer = Pipeline(steps=[\n",
    "    ('imputer', SimpleImputer(strategy='median')),  # Imputación de valores faltantes con la mediana\n",
    "    ('scaler', StandardScaler())  # Estandarización de variables numéricas\n",
    "])\n",
    "\n",
    "categorical_transformer = Pipeline(steps=[\n",
    "    ('imputer', SimpleImputer(strategy='most_frequent')),  # Imputación de valores faltantes con la moda\n",
    "    ('onehot', OneHotEncoder(handle_unknown='ignore'))  # Codificación One-Hot para variables categóricas\n",
    "])"
   ]
  },
  {
   "cell_type": "code",
   "execution_count": 18,
   "metadata": {},
   "outputs": [],
   "source": [
    "# Combinación de transformadores para todas las columnas\n",
    "preprocessor = ColumnTransformer(\n",
    "    transformers=[\n",
    "        ('num', numeric_transformer, numeric_features),\n",
    "        ('cat', categorical_transformer, categorical_features)\n",
    "    ])"
   ]
  },
  {
   "cell_type": "code",
   "execution_count": 19,
   "metadata": {},
   "outputs": [],
   "source": [
    "# Ajuste del preprocesador en los datos de entrenamiento y transformación de los datos de entrenamiento y validación\n",
    "X_train_preprocessed = preprocessor.fit_transform(X_train)\n",
    "X_val_preprocessed = preprocessor.transform(X_val)"
   ]
  },
  {
   "cell_type": "markdown",
   "metadata": {},
   "source": [
    "#### Procedimiento del preprocesamiento de los datos\n",
    "El preprocesamiento de datos se abordó en 2 fases : imputación de valores faltantes y codificación de variables categóricas.\n",
    "\n",
    "En primer lugar, se identificaron las columnas numéricas y categóricas en el conjunto de datos. Las columnas numéricas incluyen aquellas de tipo 'int64' y 'float64', mientras que las columnas categóricas son del tipo 'object'. Luegouego, se crearon dos pipelines para el preprocesamiento de datos: uno para variables numéricas y otro para variables categóricas. \n",
    "\n",
    "Para las variables numéricas, se utilizó una imputación de valores faltantes con la mediana de cada columna, seguida de la estandarización de las variables utilizando la clase StandardScaler de sklearn.\n",
    "\n",
    "Para las variables categóricas, se realizó una imputación de valores faltantes utilizando la moda de cada columna, seguida de la codificación One-Hot utilizando la clase OneHotEncoder de sklearn. Además, se utilizó el parámetro 'handle_unknown' con el valor 'ignore' para manejar correctamente cualquier categoría desconocida en los datos de validación.\n",
    "\n",
    "Finalmente, se combinaron ambos transformadores en un ColumnTransformer que aplicó el preprocesamiento a todas las columnas del conjunto de datos. Este preprocesador se ajustó a los datos de entrenamiento y se utilizó para transformar tanto los datos de entrenamiento como los de vay ensambles.\n",
    "\n",
    "Además se revisó y comprobó que train y test no tienen errores y nulos en sus bases de datos. \n"
   ]
  },
  {
   "cell_type": "markdown",
   "metadata": {},
   "source": [
    "### 3. Calibración del modelo\n"
   ]
  },
  {
   "cell_type": "code",
   "execution_count": 20,
   "metadata": {},
   "outputs": [],
   "source": [
    "# Librerías para calificación y calibración\n",
    "from sklearn.model_selection import cross_val_score, StratifiedKFold, RandomizedSearchCV, train_test_split, GridSearchCV\n",
    "\n",
    "from sklearn.tree import DecisionTreeRegressor\n",
    "from xgboost import XGBRegressor\n",
    "from sklearn.metrics import mean_squared_error\n",
    "\n",
    "import matplotlib.pyplot as plt\n",
    "\n",
    "from sklearn.metrics import mean_squared_error, mean_absolute_error\n",
    "\n",
    "from sklearn.ensemble import BaggingRegressor, RandomForestRegressor\n",
    "\n",
    "from sklearn.preprocessing import LabelEncoder"
   ]
  },
  {
   "cell_type": "code",
   "execution_count": 21,
   "metadata": {},
   "outputs": [],
   "source": [
    "#Ajuste de datos para calibración más limpia:\n",
    "\n",
    "# Extracción de información adicional\n",
    "train = dataTraining.copy()\n",
    "test = dataTesting.copy()\n",
    "\n",
    "# Extraer transmisión del modelo (AWD, 4WD, etc.)\n",
    "train[\"TRC\"] = [i[-3:] for i in dataTraining[\"Model\"]]\n",
    "test[\"TRC\"] = [i[-3:] for i in dataTesting[\"Model\"]]\n",
    "\n",
    "# Calcular la edad del vehículo\n",
    "train[\"Age\"] = 2019 - train[\"Year\"]\n",
    "test[\"Age\"] = 2019 - test[\"Year\"]\n",
    "\n",
    "# Crear categorías de mediana y rango por parámetro\n",
    "def cat_col(c):\n",
    "    m = train.groupby(c).agg({\"Price\" : [\"min\",\"median\",\"max\"]}).reset_index()\n",
    "    m.columns = [c, \"min\", \"median\", \"max\"]\n",
    "    m[\"range\"] = m[\"max\"] - m[\"min\"]\n",
    "    r = np.linspace(m[\"median\"].min(), m[\"median\"].max(), num=10)\n",
    "    m[c + \"_median\"] = pd.cut(m[\"median\"], r, labels=range(9))\n",
    "    return m[[c, c + \"_median\"]]\n",
    "\n",
    "model_cat = cat_col(\"Model\")\n",
    "make_cat = cat_col(\"Make\")\n",
    "state_cat = cat_col(\"State\")\n",
    "trc_cat = cat_col(\"TRC\")\n",
    "\n",
    "# Inclusión de agrupadores en los conjuntos de datos\n",
    "train = train.join(model_cat.set_index(\"Model\"), on=\"Model\")\n",
    "train = train.join(make_cat.set_index(\"Make\"), on=\"Make\")\n",
    "train = train.join(state_cat.set_index(\"State\"), on=\"State\")\n",
    "train = train.join(trc_cat.set_index(\"TRC\"), on=\"TRC\")\n",
    "\n",
    "test = test.join(model_cat.set_index(\"Model\"), on=\"Model\")\n",
    "test = test.join(make_cat.set_index(\"Make\"), on=\"Make\")\n",
    "test = test.join(state_cat.set_index(\"State\"), on=\"State\")\n",
    "test = test.join(trc_cat.set_index(\"TRC\"), on=\"TRC\")\n",
    "\n",
    "# Crear columnas dummies\n",
    "train_dumm = pd.get_dummies(train.select_dtypes(include=['category']), dummy_na=True)\n",
    "test_dumm = pd.get_dummies(test.select_dtypes(include=['category']), dummy_na=True)\n",
    "\n",
    "# Añadir columnas dummies a los conjuntos de datos\n",
    "train = train.join(train_dumm)\n",
    "test = test.join(test_dumm)\n",
    "\n",
    "# Eliminar columnas originales de tipo categoría y objeto\n",
    "cols = train.select_dtypes(include=['category', 'object']).columns\n",
    "train.drop(cols, axis=1, inplace=True)\n",
    "test.drop(cols, axis=1, inplace=True)\n",
    "\n",
    "    "
   ]
  },
  {
   "cell_type": "code",
   "execution_count": 22,
   "metadata": {
    "scrolled": false
   },
   "outputs": [],
   "source": [
    "\n",
    "# Identificar columnas categóricas\n",
    "cat_columns = dataTraining.select_dtypes(include=['object']).columns\n",
    "\n",
    "# Convertir columnas categóricas a numéricas\n",
    "dataTraining[cat_columns] = dataTraining[cat_columns].apply(lambda col: LabelEncoder().fit_transform(col))\n",
    "\n",
    "# División en entrenamiento y pruebas\n",
    "X = dataTraining.drop(\"Price\", axis=1)\n",
    "y = dataTraining[\"Price\"]\n",
    "\n",
    "X_train, X_test, y_train, y_test = train_test_split(X, y, test_size=0.6, random_state=42)\n",
    "\n"
   ]
  },
  {
   "cell_type": "code",
   "execution_count": 23,
   "metadata": {},
   "outputs": [],
   "source": [
    "# Diccionario  modelos\n",
    "mse_scores = {}\n",
    "\n",
    "# Calibración de Árbol de Decisión Manual\n",
    "manual_tree = DecisionTreeRegressor(max_depth=10)\n",
    "manual_tree.fit(X_train, y_train)\n",
    "y_pred_manual_tree = manual_tree.predict(X_test)\n",
    "mse_scores[\"Manual Tree\"] = mean_squared_error(y_test, y_pred_manual_tree)\n",
    "\n"
   ]
  },
  {
   "cell_type": "code",
   "execution_count": 24,
   "metadata": {},
   "outputs": [],
   "source": [
    "# Calibración de Bagging\n",
    "bagging = BaggingRegressor(n_estimators=10, random_state=42)\n",
    "bagging.fit(X_train, y_train)\n",
    "y_pred_bagging = bagging.predict(X_test)\n",
    "mse_scores[\"Bagging\"] = mean_squared_error(y_test, y_pred_bagging)\n",
    "\n"
   ]
  },
  {
   "cell_type": "code",
   "execution_count": 25,
   "metadata": {},
   "outputs": [],
   "source": [
    "# Calibración de Bagging con librería\n",
    "bagging_lib = BaggingRegressor(\n",
    "    base_estimator=DecisionTreeRegressor(),\n",
    "    n_estimators=10,\n",
    "    max_features=int(np.log(X_train.shape[1])),\n",
    "    random_state=42\n",
    ")\n",
    "bagging_lib.fit(X_train, y_train)\n",
    "y_pred_bagging_lib = bagging_lib.predict(X_test)\n",
    "mse_scores[\"Bagging (Library)\"] = mean_squared_error(y_test, y_pred_bagging_lib)\n",
    "\n"
   ]
  },
  {
   "cell_type": "code",
   "execution_count": 26,
   "metadata": {},
   "outputs": [],
   "source": [
    "# Calibración de Random Forest\n",
    "random_forest = RandomForestRegressor(n_estimators=100, random_state=42)\n",
    "random_forest.fit(X_train, y_train)\n",
    "y_pred_rf = random_forest.predict(X_test)\n",
    "mse_scores[\"Random Forest\"] = mean_squared_error(y_test, y_pred_rf)\n",
    "\n"
   ]
  },
  {
   "cell_type": "code",
   "execution_count": 27,
   "metadata": {},
   "outputs": [],
   "source": [
    "# Calibración de XGBoost con GridSearchCV\n",
    "param_grid_xgb = {\n",
    "    'learning_rate': [0.1, 0.3],  \n",
    "    'max_depth': [6, 10],          \n",
    "    'min_child_weight': [1, 10],  \n",
    "    'subsample': [0.5, 0.7],  \n",
    "    'n_estimators': [100, 250], \n",
    "    'gamma': [0, 10, 100]\n",
    "}\n",
    "grid_xgb = GridSearchCV(estimator=XGBRegressor(objective='reg:squarederror', random_state=42), param_grid=param_grid_xgb, cv=3, scoring='neg_mean_squared_error', n_jobs=-1)\n",
    "grid_xgb.fit(X_train, y_train)\n",
    "y_pred_xgb_cv = grid_xgb.best_estimator_.predict(X_test)\n",
    "mse_scores[\"XGBoost CV\"] = mean_squared_error(y_test, y_pred_xgb_cv)\n"
   ]
  },
  {
   "cell_type": "markdown",
   "metadata": {},
   "source": [
    "# RESULTADOS DE LOS MODELOS "
   ]
  },
  {
   "cell_type": "code",
   "execution_count": 82,
   "metadata": {},
   "outputs": [
    {
     "name": "stdout",
     "output_type": "stream",
     "text": [
      "MSE para cada modelo:\n",
      "Manual Tree: 24478311.29\n",
      "Bagging: 15506079.50\n",
      "Bagging (Library): 73585799.44\n",
      "Random Forest: 14518556.08\n",
      "XGBoost CV: 14429731.98\n"
     ]
    }
   ],
   "source": [
    "\n",
    "# Resultados de MSE para cada modelo\n",
    "print(\"MSE para cada modelo:\")\n",
    "for model, mse in mse_scores.items():\n",
    "    print(f\"{model}: {mse:.2f}\")\n"
   ]
  },
  {
   "cell_type": "markdown",
   "metadata": {},
   "source": [
    "## MODELOS XGBoost"
   ]
  },
  {
   "cell_type": "code",
   "execution_count": 83,
   "metadata": {
    "scrolled": true
   },
   "outputs": [
    {
     "data": {
      "text/plain": [
       "Text(0, 0.5, 'MSE')"
      ]
     },
     "execution_count": 83,
     "metadata": {},
     "output_type": "execute_result"
    },
    {
     "data": {
      "image/png": "[encoded data removed]",
      "text/plain": [
       "<Figure size 432x288 with 1 Axes>"
      ]
     },
     "metadata": {
      "needs_background": "light"
     },
     "output_type": "display_data"
    }
   ],
   "source": [
    "# Calibración de learning_rate de XGBoost\n",
    "estimator_range = np.arange(0.1, 1, 0.1)\n",
    "\n",
    "\n",
    "accuracy_scores = []\n",
    "\n",
    "for estimator in estimator_range:\n",
    "    xgb = XGBRegressor(learning_rate=estimator, random_state=1, n_jobs=-1)\n",
    "    accuracy_scores.append(cross_val_score(xgb, X_train, y_train, cv=5, scoring='neg_mean_squared_error').mean())\n",
    "    \n",
    "plt.plot(estimator_range, accuracy_scores)\n",
    "plt.xlabel('learning_rate')\n",
    "plt.ylabel('MSE')"
   ]
  },
  {
   "cell_type": "code",
   "execution_count": null,
   "metadata": {},
   "outputs": [],
   "source": []
  },
  {
   "cell_type": "code",
   "execution_count": 84,
   "metadata": {
    "scrolled": false
   },
   "outputs": [
    {
     "data": {
      "text/plain": [
       "Text(0, 0.5, 'MSE')"
      ]
     },
     "execution_count": 84,
     "metadata": {},
     "output_type": "execute_result"
    },
    {
     "data": {
      "image/png": "[encoded data removed]",
      "text/plain": [
       "<Figure size 432x288 with 1 Axes>"
      ]
     },
     "metadata": {
      "needs_background": "light"
     },
     "output_type": "display_data"
    }
   ],
   "source": [
    "# Calibración max_depth de XGBoost\n",
    "estimator_range = range(6, 12, 2)\n",
    "\n",
    "accuracy_scores = []\n",
    "\n",
    "\n",
    "for estimator in estimator_range:\n",
    "    xgb = XGBRegressor(learning_rate=0.3, max_depth=estimator, random_state=1, n_jobs=-1)\n",
    "    accuracy_scores.append(cross_val_score(xgb, X_train, y_train, cv=5, scoring='neg_mean_squared_error').mean())\n",
    "    \n",
    "plt.plot(estimator_range, accuracy_scores)\n",
    "plt.xlabel('max_depth')\n",
    "plt.ylabel('MSE')"
   ]
  },
  {
   "cell_type": "code",
   "execution_count": 86,
   "metadata": {},
   "outputs": [
    {
     "data": {
      "text/plain": [
       "Text(0, 0.5, 'MSE')"
      ]
     },
     "execution_count": 86,
     "metadata": {},
     "output_type": "execute_result"
    },
    {
     "data": {
      "image/png": "[encoded data removed]",
      "text/plain": [
       "<Figure size 432x288 with 1 Axes>"
      ]
     },
     "metadata": {
      "needs_background": "light"
     },
     "output_type": "display_data"
    }
   ],
   "source": [
    "# Calibración de min_child_weight de XGBoost\n",
    "estimator_range = range(10, 100, 10)\n",
    "\n",
    "accuracy_scores = []\n",
    "\n",
    "for estimator in estimator_range:\n",
    "    xgb = XGBRegressor(learning_rate=0.3, max_depth=9, min_child_weight=estimator, random_state=1, n_jobs=-1)\n",
    "    accuracy_scores.append(cross_val_score(xgb, X_train, y_train, cv=5, scoring='neg_mean_squared_error').mean())\n",
    "    \n",
    "plt.plot(estimator_range, accuracy_scores)\n",
    "plt.xlabel('min_child_weight')\n",
    "plt.ylabel('MSE')"
   ]
  },
  {
   "cell_type": "code",
   "execution_count": 87,
   "metadata": {},
   "outputs": [
    {
     "data": {
      "text/plain": [
       "Text(0, 0.5, 'MSE')"
      ]
     },
     "execution_count": 87,
     "metadata": {},
     "output_type": "execute_result"
    },
    {
     "data": {
      "image/png": "[encoded data removed]",
      "text/plain": [
       "<Figure size 432x288 with 1 Axes>"
      ]
     },
     "metadata": {
      "needs_background": "light"
     },
     "output_type": "display_data"
    }
   ],
   "source": [
    "# Calibración de subsample de XGBoost\n",
    "estimator_range = np.arange(0.1, 1, 0.2)\n",
    "\n",
    "accuracy_scores = []\n",
    "\n",
    "\n",
    "for estimator in estimator_range:\n",
    "    xgb = XGBRegressor(learning_rate=0.3, max_depth=9, min_child_weight=10, subsample=estimator, random_state=1, n_jobs=-1)\n",
    "    accuracy_scores.append(cross_val_score(xgb, X_train, y_train, cv=5, scoring='neg_mean_squared_error').mean())\n",
    "    \n",
    "plt.plot(estimator_range, accuracy_scores)\n",
    "plt.xlabel('subsample')\n",
    "plt.ylabel('MSE')"
   ]
  },
  {
   "cell_type": "code",
   "execution_count": 88,
   "metadata": {
    "scrolled": true
   },
   "outputs": [
    {
     "data": {
      "text/plain": [
       "Text(0, 0.5, 'MSE')"
      ]
     },
     "execution_count": 88,
     "metadata": {},
     "output_type": "execute_result"
    },
    {
     "data": {
      "image/png": "[encoded data removed]",
      "text/plain": [
       "<Figure size 432x288 with 1 Axes>"
      ]
     },
     "metadata": {
      "needs_background": "light"
     },
     "output_type": "display_data"
    }
   ],
   "source": [
    "# Calibración de n_estimators\n",
    "estimator_range = np.arange(100, 300, 50)\n",
    "\n",
    "\n",
    "accuracy_scores = []\n",
    "\n",
    "for estimator in estimator_range:\n",
    "    xgb = XGBRegressor(learning_rate=0.3, max_depth=9, min_child_weight=10, subsample=0.7, \n",
    "                       n_estimators=estimator, random_state=1, n_jobs=-1)\n",
    "    accuracy_scores.append(cross_val_score(xgb, X_train, y_train, cv=5, scoring='neg_mean_squared_error').mean())\n",
    "    \n",
    "plt.plot(estimator_range, accuracy_scores)\n",
    "plt.xlabel('n_estimators')\n",
    "plt.ylabel('MSE')"
   ]
  },
  {
   "cell_type": "code",
   "execution_count": 89,
   "metadata": {},
   "outputs": [
    {
     "data": {
      "text/plain": [
       "Text(0, 0.5, 'MSE')"
      ]
     },
     "execution_count": 89,
     "metadata": {},
     "output_type": "execute_result"
    },
    {
     "data": {
      "image/png": "[encoded data removed]",
      "text/plain": [
       "<Figure size 432x288 with 1 Axes>"
      ]
     },
     "metadata": {
      "needs_background": "light"
     },
     "output_type": "display_data"
    }
   ],
   "source": [
    "# Calibración de gamma\n",
    "estimator_range = np.arange(1, 500, 50)\n",
    "\n",
    "accuracy_scores = []\n",
    "\n",
    "\n",
    "for estimator in estimator_range:\n",
    "    xgb = XGBRegressor(learning_rate=0.3, max_depth=9, min_child_weight=10, subsample=0.7, \n",
    "                       n_estimators=250, gamma=estimator, random_state=1, n_jobs=-1)\n",
    "    accuracy_scores.append(cross_val_score(xgb, X_train, y_train, cv=10, scoring='neg_mean_squared_error').mean())\n",
    "    \n",
    "plt.plot(estimator_range, accuracy_scores)\n",
    "plt.xlabel('gamma')\n",
    "plt.ylabel('MSE')"
   ]
  },
  {
   "cell_type": "markdown",
   "metadata": {},
   "source": [
    "Los gráficos muestran cómo varía el error cuadrático medio (MSE) en función del número de estimadores en XGBoost. Se realizan múltiples iteraciones para ajustar los hiperparámetros del modelo, dicho anteriormente (learning_rate`, `max_depth`, `min_child_weight`, `subsample`, `n_estimators` y `gamma) `. Cada punto en el gráfico representa el MSE promedio obtenido a través de validación cruzada para un valor específico de `n_estimators`. En el eje x se representa el número de estimadores, mientras que en el eje y se representa el MSE. El objetivo es identificar el número óptimo de estimadores que minimice el MSE y proporcione el mejor rendimiento del modelo XGBoost.\n",
    "\n",
    "\n",
    "Finalmente, el modelo se entrenó con los mejores valores de parámetros obtenidos y se evaluó su desempeño en el conjunto de datos de prueba. Con los parámetros optimizados, se logró un MSE de aproximadamente 3095.97 en los datos de entrenamiento y 3099.16 en los datos de prueba. Esto indica una buena capacidad de generalización del modelo, ya que el MSE en el conjunto de prueba es comparable al MSE en el conjunto de entrenamiento, lo que sugiere que el modelo no está sobreajustado a los datos de entrenamiento.\n",
    "\n"
   ]
  },
  {
   "cell_type": "markdown",
   "metadata": {},
   "source": [
    "### 4. Entrenamiento del modelo"
   ]
  },
  {
   "cell_type": "code",
   "execution_count": 28,
   "metadata": {},
   "outputs": [
    {
     "data": {
      "text/plain": [
       "XGBRegressor(base_score=None, booster=None, callbacks=None,\n",
       "             colsample_bylevel=None, colsample_bynode=None,\n",
       "             colsample_bytree=None, device=None, early_stopping_rounds=None,\n",
       "             enable_categorical=False, eval_metric='rmse', feature_types=None,\n",
       "             gamma=200, grow_policy=None, importance_type=None,\n",
       "             interaction_constraints=None, learning_rate=0.3, max_bin=None,\n",
       "             max_cat_threshold=None, max_cat_to_onehot=None,\n",
       "             max_delta_step=None, max_depth=10, max_leaves=None,\n",
       "             min_child_weight=10, missing=nan, monotone_constraints=None,\n",
       "             multi_strategy=None, n_estimators=250, n_jobs=-1,\n",
       "             num_parallel_tree=None, random_state=1, ...)"
      ]
     },
     "execution_count": 28,
     "metadata": {},
     "output_type": "execute_result"
    }
   ],
   "source": [
    "xgb = XGBRegressor(learning_rate=0.3, max_depth=10, min_child_weight=10, subsample=0.7, \n",
    "                   n_estimators=250, gamma=200, eval_metric='rmse',\n",
    "                   random_state=1, n_jobs=-1)\n",
    "\n",
    "xgb.fit(X,y)"
   ]
  },
  {
   "cell_type": "code",
   "execution_count": 29,
   "metadata": {},
   "outputs": [
    {
     "name": "stdout",
     "output_type": "stream",
     "text": [
      "MSE evaluado respecto a la muestra de train:  3095.9721996321546\n",
      "MSE evaluado respecto a la muestra de test:  3099.1601000063542\n"
     ]
    }
   ],
   "source": [
    "# Predicciones con el Random Forest y los mejores valores de los parámetros\n",
    "y_pred_train = xgb.predict(X_train) # Predicción en train\n",
    "y_pred_test = xgb.predict(X_test) # Predicción en test\n",
    "\n",
    "# Calculo del accuracy para modelo Random Forest con los mejores valores de los parámetros\n",
    "mse_train = mean_squared_error(y_train, y_pred_train, squared=False) # Accuracy en train\n",
    "mse_test = mean_squared_error(y_test, y_pred_test, squared=False) # Accuracy en test\n",
    "\n",
    "print('MSE evaluado respecto a la muestra de train: ', mse_train)\n",
    "print('MSE evaluado respecto a la muestra de test: ', mse_test)"
   ]
  },
  {
   "cell_type": "markdown",
   "metadata": {},
   "source": [
    "Calibración del modelo\n",
    "El proceso de calibración del modelo se realiza con varios momentos, utilizando diferentes técnicas y algoritmos para encontrar los parámetros óptimos y mejorar el rendimiento predictivo. De manera general el procedimiento desarrollado es el siguiente: \n",
    "Primero, se preparan los datos para la calibración, extrayendo información adicional como la transmisión del modelo y la edad del vehículo. Luego, se crean categorías de mediana y rango por parámetro, lo que permite agrupar los datos de manera más efectiva para su procesamiento. Este proceso se realiza tanto en los conjuntos de entrenamiento como en los de prueba. \n",
    "A continuación, se realiza transformaciones específicas para convertir las variables categóricas en numéricas, utilizando la codificación One-Hot y eliminando las columnas originales de tipo categoría y objeto. \n",
    "Para la calibración de modelos, se aplican algoritmos como Árbol de Decisión, Bagging, Random Forest y XGBoost, cada uno con diferentes configuraciones de parámetros. Se utilizan tanto métodos manuales como librerías para la calibración, evaluando el rendimiento de cada modelo con la métrica de error cuadrático medio (MSE). \n",
    "Finalmente, se comparan los resultados obtenidos de cada técnica de calibración para seleccionar el modelo final con el mejor desempeño predictivo.\n"
   ]
  },
  {
   "cell_type": "markdown",
   "metadata": {},
   "source": [
    "### 5. Disponibilización del modelo "
   ]
  },
  {
   "cell_type": "code",
   "execution_count": 30,
   "metadata": {},
   "outputs": [
    {
     "name": "stdout",
     "output_type": "stream",
     "text": [
      "Requirement already satisfied: flask-restx in /Users/paolaalfaro/opt/anaconda3/lib/python3.9/site-packages (1.3.0)\n",
      "Requirement already satisfied: importlib-resources in /Users/paolaalfaro/opt/anaconda3/lib/python3.9/site-packages (from flask-restx) (6.4.0)\n",
      "Requirement already satisfied: werkzeug!=2.0.0 in /Users/paolaalfaro/opt/anaconda3/lib/python3.9/site-packages (from flask-restx) (2.0.3)\n",
      "Requirement already satisfied: aniso8601>=0.82 in /Users/paolaalfaro/opt/anaconda3/lib/python3.9/site-packages (from flask-restx) (9.0.1)\n",
      "Requirement already satisfied: Flask!=2.0.0,>=0.8 in /Users/paolaalfaro/opt/anaconda3/lib/python3.9/site-packages (from flask-restx) (1.1.2)\n",
      "Requirement already satisfied: pytz in /Users/paolaalfaro/opt/anaconda3/lib/python3.9/site-packages (from flask-restx) (2021.3)\n",
      "Requirement already satisfied: jsonschema in /Users/paolaalfaro/opt/anaconda3/lib/python3.9/site-packages (from flask-restx) (4.4.0)\n",
      "Requirement already satisfied: click>=5.1 in /Users/paolaalfaro/opt/anaconda3/lib/python3.9/site-packages (from Flask!=2.0.0,>=0.8->flask-restx) (8.0.4)\n",
      "Requirement already satisfied: Jinja2>=2.10.1 in /Users/paolaalfaro/opt/anaconda3/lib/python3.9/site-packages (from Flask!=2.0.0,>=0.8->flask-restx) (2.11.3)\n",
      "Requirement already satisfied: itsdangerous>=0.24 in /Users/paolaalfaro/opt/anaconda3/lib/python3.9/site-packages (from Flask!=2.0.0,>=0.8->flask-restx) (2.0.1)\n",
      "Requirement already satisfied: MarkupSafe>=0.23 in /Users/paolaalfaro/opt/anaconda3/lib/python3.9/site-packages (from Jinja2>=2.10.1->Flask!=2.0.0,>=0.8->flask-restx) (2.0.1)\n",
      "Requirement already satisfied: zipp>=3.1.0 in /Users/paolaalfaro/opt/anaconda3/lib/python3.9/site-packages (from importlib-resources->flask-restx) (3.7.0)\n",
      "Requirement already satisfied: pyrsistent!=0.17.0,!=0.17.1,!=0.17.2,>=0.14.0 in /Users/paolaalfaro/opt/anaconda3/lib/python3.9/site-packages (from jsonschema->flask-restx) (0.18.0)\n",
      "Requirement already satisfied: attrs>=17.4.0 in /Users/paolaalfaro/opt/anaconda3/lib/python3.9/site-packages (from jsonschema->flask-restx) (21.4.0)\n"
     ]
    }
   ],
   "source": [
    "!pip install flask-restx\n",
    "\n",
    "from flask import Flask\n",
    "from flask_restx import Api, Resource, fields\n",
    "import pandas as pd\n",
    "import joblib\n"
   ]
  },
  {
   "cell_type": "code",
   "execution_count": 31,
   "metadata": {},
   "outputs": [],
   "source": [
    "app = Flask(__name__)\n",
    "api = Api(app, version='1.0', title='CAR _ Prediction-G18_ API', description='Car Prediction API')\n",
    "ns = api.namespace('predict', description='Price Predictor')\n",
    "parser = api.parser()\n"
   ]
  },
  {
   "cell_type": "code",
   "execution_count": 32,
   "metadata": {},
   "outputs": [],
   "source": [
    "parser.add_argument(\n",
    "    'URL', \n",
    "    type=str, \n",
    "    required=True, \n",
    "    help='Data to be analyzed', \n",
    "    location='args'\n",
    ")\n",
    "\n",
    "resource_fields = api.model('Resource', {\n",
    "    'result': fields.String,\n",
    "})\n"
   ]
  },
  {
   "cell_type": "code",
   "execution_count": 33,
   "metadata": {},
   "outputs": [],
   "source": [
    "@ns.route('/')\n",
    "class PhishingApi(Resource):\n",
    "\n",
    "    @api.doc(parser=parser)\n",
    "    @api.marshal_with(resource_fields)\n",
    "    def get(self):\n",
    "        args = parser.parse_args()\n",
    "        \n",
    "        return {\n",
    "            \"result\": predict_price(args['URL'])\n",
    "        }, 200\n"
   ]
  },
  {
   "cell_type": "code",
   "execution_count": 34,
   "metadata": {},
   "outputs": [],
   "source": [
    "def predict_price(url):\n",
    "\n",
    "    reg = joblib.load('model_deployment/xgb.pkl') \n",
    "\n",
    "    url_ = pd.DataFrame([url], columns=['car'])\n",
    "\n",
    "    model_cat = pd.read_csv('model_deployment/modelc.csv')\n",
    "    make_cat = pd.read_csv('model_deployment/makec.csv')\n",
    "    state_cat = pd.read_csv('model_deployment/statec.csv')\n",
    "    trc_cat = pd.read_csv('model_deployment/trcc.csv')\n",
    "    test_cols = pd.read_csv('model_deployment/testcol.csv')\n",
    "\n",
    "    # Create features  \n",
    "    veh = url_.car.str.split(' ', expand=True)\n",
    "    url_[\"Year\"] = int(veh.iloc[:, 0])\n",
    "    url_[\"Mileage\"] = int(veh.iloc[:, 1])\n",
    "    url_[\"State\"] = \" \"+veh.iloc[:, 2]\n",
    "    url_[\"Make\"] = veh.iloc[:, 3]\n",
    "    url_[\"Model\"] = veh.iloc[:, 4]\n",
    "    url_[\"TRC\"] = [i[-3:] for i in url_[\"Model\"]]\n",
    "    url_[\"Age\"] = 2019 - int(url_[\"Year\"])\n",
    "\n",
    "    url_ = url_.join(model_cat.set_index(\"Model\"), on=\"Model\")\n",
    "    url_ = url_.join(make_cat.set_index(\"Make\"), on=\"Make\")\n",
    "    url_ = url_.join(state_cat.set_index(\"State\"), on=\"State\")\n",
    "    url_ = url_.join(trc_cat.set_index(\"TRC\"), on=\"TRC\")\n",
    "\n",
    "    dumm_cols = [\"Model_range\",\"Model_median\",\"Make_range\",\"Make_median\",\"State_range\",\"State_median\",\\\n",
    "                               \"TRC_range\",\"TRC_median\"]\n",
    "\n",
    "    dumm = pd.DataFrame({i+\"_\"+str(int(url_[i][0])):[1] for i in dumm_cols})\n",
    "    url_ = url_.join(dumm)\n",
    "    cols = url_.select_dtypes(include=['object']).columns\n",
    "    url_.drop(cols, axis=1, inplace=True)\n",
    "    url_.drop(dumm_cols, axis=1, inplace=True)\n",
    "    url_ = pd.concat([test_cols,url_]).fillna(0)\n",
    "    url_ = url_.iloc[1:]\n",
    "\n",
    "    # Make prediction\n",
    "    resultado = reg.predict(url_)[0]\n",
    "\n",
    "    return resultado"
   ]
  },
  {
   "cell_type": "code",
   "execution_count": null,
   "metadata": {},
   "outputs": [],
   "source": [
    "# API LOCAL FLASK\n",
    "app = Flask(__name__)\n",
    "\n",
    "# Definición API Flask\n",
    "api = Api(\n",
    "    app, \n",
    "    version='1.0', \n",
    "    title='Car Price Predictor API',\n",
    "    description='Car Price Predictor API')\n",
    "\n",
    "ns = api.namespace('predict', \n",
    "     description='Price Predictor')\n",
    "\n",
    "# Definición argumentos o parámetros de la API\n",
    "parser = api.parser()\n",
    "parser.add_argument(\n",
    "    'URL', \n",
    "    type=str, \n",
    "    required=True, \n",
    "    help='Data to be analyzed', \n",
    "    location='args')\n",
    "\n",
    "resource_fields = api.model('Resource', {\n",
    "    'result': fields.String,\n",
    "})"
   ]
  },
  {
   "cell_type": "code",
   "execution_count": null,
   "metadata": {},
   "outputs": [],
   "source": [
    "# para la API\n",
    "model_cat.to_csv('model_deployment/modelc.csv', index=False)\n",
    "make_cat.to_csv('model_deployment/makec.csv', index=False)\n",
    "state_cat.to_csv('model_deployment/statec.csv', index=False)\n",
    "trc_cat.to_csv('model_deployment/trcc.csv', index=False)"
   ]
  },
  {
   "cell_type": "code",
   "execution_count": null,
   "metadata": {
    "scrolled": true
   },
   "outputs": [],
   "source": [
    "app.run(debug=True, use_reloader=False, host='0.0.0.0', port=5001)\n"
   ]
  },
  {
   "cell_type": "markdown",
   "metadata": {},
   "source": [
    "Resultados de predicción para descarga"
   ]
  },
  {
   "cell_type": "code",
   "execution_count": null,
   "metadata": {},
   "outputs": [],
   "source": [
    "\n",
    "\n",
    "y_pred = xgb.predict(test)  # Predicciones sobre el conjunto de prueba\n",
    "\n",
    "# Crear un DataFrame con el formato que Kaggle requiere\n",
    "submission = pd.DataFrame({\n",
    "    'Id': test.index,  \n",
    "    'Price': y_pred  \n",
    "})\n",
    "\n",
    "# Guardar el DataFrame en un archivo CSV\n",
    "submission.to_csv('test_submission.csv', index=False)  \n"
   ]
  },
  {
   "cell_type": "markdown",
   "metadata": {},
   "source": [
    "### 6. Conclusiones"
   ]
  },
  {
   "cell_type": "markdown",
   "metadata": {},
   "source": [
    "Conclusiones\n",
    "Como resumen en este proyecto, se desarrolló un modelo predictivo para estimar el precio de los automóviles en el conjunto de datos entregado para el ejercicio. Se implementó un proceso completo que abarcó desde la preparación y preprocesamiento de los datos hasta la disponibilización del modelo a través de una API en la nube. Durante la calibración, se evaluaron diversos algoritmos de aprendizaje automático, como Árbol de Decisión, Bagging, Random Forest y XGBoost, utilizando validación cruzada para encontrar los mejores parámetros. Además, se destacó el enfoque de optimización de hiperparámetros para mejorar el rendimiento del modelo, donde XGBoost mostró resultados prometedores con un MSE de 3095.97 en el conjunto de entrenamiento y 3099.16 en el conjunto de prueba. \n",
    "\n",
    "La disponibilización del modelo como una API facilita su acceso y utilización, permitiendo hacer predicciones sobre nuevos datos de automóviles de manera eficiente. Las conclusiones principales que podemos destacar es que el modelo XGBoost calibrado nos permite estimar el precio de automóviles con un buen rendimiento versus otros modelos evaluados, y la API nos da una interfaz práctica para su uso en diferentes aplicaciones de modelos supervisados como los utilizados en este proyecto (como Árbol de Decisión, Bagging, Random Forest y XGBoost). \n"
   ]
  },
  {
   "cell_type": "code",
   "execution_count": null,
   "metadata": {},
   "outputs": [],
   "source": []
  }
 ],
 "metadata": {
  "kernelspec": {
   "display_name": "Python 3 (ipykernel)",
   "language": "python",
   "name": "python3"
  },
  "language_info": {
   "codemirror_mode": {
    "name": "ipython",
    "version": 3
   },
   "file_extension": ".py",
   "mimetype": "text/x-python",
   "name": "python",
   "nbconvert_exporter": "python",
   "pygments_lexer": "ipython3",
   "version": "3.9.12"
  }
 },
 "nbformat": 4,
 "nbformat_minor": 4
}
